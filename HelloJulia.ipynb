{
 "cells": [
  {
   "cell_type": "markdown",
   "id": "ed7ed530",
   "metadata": {},
   "source": [
    "# Intro to Julia"
   ]
  },
  {
   "cell_type": "code",
   "execution_count": 1,
   "id": "bd65c9d1",
   "metadata": {},
   "outputs": [
    {
     "name": "stdout",
     "output_type": "stream",
     "text": [
      "Hello World\n"
     ]
    }
   ],
   "source": [
    "using Printf\n",
    "using Statistics\n",
    "s = \"Hello Julia\"\n",
    "println(s)"
   ]
  },
  {
   "cell_type": "markdown",
   "id": "33a3c20b",
   "metadata": {},
   "source": [
    "## Types\n",
    "Types are dynamically and optionally assigned, meaning they can change. There's even no problem from going to a String to an integer. However, you can assert data types with ::"
   ]
  },
  {
   "cell_type": "code",
   "execution_count": 1,
   "id": "9b34a590",
   "metadata": {},
   "outputs": [
    {
     "data": {
      "text/plain": [
       "changeNum (generic function with 1 method)"
      ]
     },
     "execution_count": 1,
     "metadata": {},
     "output_type": "execute_result"
    }
   ],
   "source": [
    "x=10\n",
    "typeof(x)\n",
    "x=\"Dog\"\n",
    "typeof(x)"
   ]
  },
  {
   "cell_type": "code",
   "execution_count": 2,
   "id": "9300654d",
   "metadata": {},
   "outputs": [
    {
     "data": {
      "text/plain": [
       "changeNum (generic function with 1 method)"
      ]
     },
     "execution_count": 2,
     "metadata": {},
     "output_type": "execute_result"
    }
   ],
   "source": [
    "function changeNum()\n",
    "    x::Int8 = 10\n",
    "    print(x+2)\n",
    "end"
   ]
  },
  {
   "cell_type": "code",
   "execution_count": 3,
   "id": "75e76056",
   "metadata": {},
   "outputs": [
    {
     "name": "stdout",
     "output_type": "stream",
     "text": [
      "12"
     ]
    }
   ],
   "source": [
    "changeNum()"
   ]
  },
  {
   "cell_type": "markdown",
   "id": "cb750024",
   "metadata": {},
   "source": [
    "Types can be as followed:\n",
    "- String\n",
    "- Int8: -128 - 127\n",
    "- Int16: -32,768 - 32767\n",
    "- Int32: -2,147,483,643,648 - 2,147,483,647\n",
    "- Float32, Float64, UInt8, UInt16 etc..."
   ]
  },
  {
   "cell_type": "markdown",
   "id": "fefb962b",
   "metadata": {},
   "source": [
    "## Variables\n",
    "- You can use variable names starting with underscores, numbers, even special characters. \n",
    "- There are some special values which have an assigned value and cannot be reassigned. \n",
    "- Typing these a lot can be tiring so don't overuse them.\n",
    "- Multiple variables can be assigned at once\n",
    "- Use the const keyword to declare constants. It is tradition to use all caps for constants."
   ]
  },
  {
   "cell_type": "code",
   "execution_count": 6,
   "id": "805cdd90",
   "metadata": {},
   "outputs": [
    {
     "data": {
      "text/plain": [
       "\"don't change me!\""
      ]
     },
     "execution_count": 6,
     "metadata": {},
     "output_type": "execute_result"
    }
   ],
   "source": [
    "β=20 # \\beta TAB\n",
    "β₀=10 # \\beta TAB \\_0 TAB\n",
    "# Trying to reassign the below would throw an error\n",
    "π # \\pi TAB\n",
    "ℯ # \\euler TAB\n",
    "# Assigning multiple times in a single line\n",
    "a, b, c = 4, 7, 9;\n",
    "a, b = b, c\n",
    "const CONST = \"don't change me!\""
   ]
  },
  {
   "cell_type": "markdown",
   "id": "a1a4faf1",
   "metadata": {},
   "source": []
  }
 ],
 "metadata": {
  "kernelspec": {
   "display_name": "Julia 1.7.2",
   "language": "julia",
   "name": "julia-1.7"
  },
  "language_info": {
   "file_extension": ".jl",
   "mimetype": "application/julia",
   "name": "julia",
   "version": "1.7.2"
  }
 },
 "nbformat": 4,
 "nbformat_minor": 5
}
