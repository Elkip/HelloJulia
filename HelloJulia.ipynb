{
 "cells": [
  {
   "cell_type": "code",
   "execution_count": 1,
   "id": "bd65c9d1",
   "metadata": {},
   "outputs": [
    {
     "name": "stdout",
     "output_type": "stream",
     "text": [
      "Hello World\n"
     ]
    }
   ],
   "source": [
    "using Printf\n",
    "using Statistics\n",
    "s = \"Hello Julia\"\n",
    "println(s)"
   ]
  },
  {
   "cell_type": "markdown",
   "id": "33a3c20b",
   "metadata": {},
   "source": [
    "# Intro to Julia\n",
    "Types are dynamically assigned, meaning they can change. There's even no problem from going to a String to an integer. You can assert data types though."
   ]
  },
  {
   "cell_type": "code",
   "execution_count": 5,
   "id": "9b34a590",
   "metadata": {},
   "outputs": [
    {
     "data": {
      "text/plain": [
       "changeNum (generic function with 1 method)"
      ]
     },
     "execution_count": 5,
     "metadata": {},
     "output_type": "execute_result"
    }
   ],
   "source": [
    "function changeNum()\n",
    "    x::Int8 = 10\n",
    "    print(x+2)\n",
    "end"
   ]
  },
  {
   "cell_type": "code",
   "execution_count": 6,
   "id": "75e76056",
   "metadata": {},
   "outputs": [
    {
     "name": "stdout",
     "output_type": "stream",
     "text": [
      "12"
     ]
    }
   ],
   "source": [
    "changeNum()"
   ]
  },
  {
   "cell_type": "markdown",
   "id": "cb750024",
   "metadata": {},
   "source": [
    "Types can be as followed:\n",
    "- Int8: -128 - 127\n",
    "- Int16: -32,768 - 32767\n",
    "- Int32: -2,147,483,643,648 - 2,147,483,647\n",
    "- Float32, Float64, UInt8, UInt16 etc..."
   ]
  },
  {
   "cell_type": "code",
   "execution_count": null,
   "id": "5e258010",
   "metadata": {},
   "outputs": [],
   "source": []
  }
 ],
 "metadata": {
  "kernelspec": {
   "display_name": "Julia 1.7.2",
   "language": "julia",
   "name": "julia-1.7"
  },
  "language_info": {
   "file_extension": ".jl",
   "mimetype": "application/julia",
   "name": "julia",
   "version": "1.7.2"
  }
 },
 "nbformat": 4,
 "nbformat_minor": 5
}
